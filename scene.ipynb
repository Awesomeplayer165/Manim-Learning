{
 "cells": [
  {
   "cell_type": "code",
   "execution_count": 12,
   "metadata": {},
   "outputs": [
    {
     "name": "stderr",
     "output_type": "stream",
     "text": [
      "Animation 0: Create(Circle):   0%|          | 0/30 [00:00<?, ?it/s]0.00s - Debugger warning: It seems that frozen modules are being used, which may\n",
      "0.00s - make the debugger miss breakpoints. Please pass -Xfrozen_modules=off\n",
      "0.00s - to python to disable frozen modules.\n",
      "0.00s - Note: Debugging will proceed. Set PYDEVD_DISABLE_FILE_VALIDATION=1 to disable this validation.\n",
      "                                                                                \r"
     ]
    },
    {
     "data": {
      "text/html": [
       "<video src=\"media/jupyter/MyAweseomeScene@2024-01-03@15-43-48.mp4\" controls autoplay loop style=\"max-width: 75%;\"  >\n",
       "      Your browser does not support the <code>video</code> element.\n",
       "    </video>"
      ],
      "text/plain": [
       "<IPython.core.display.Video object>"
      ]
     },
     "metadata": {},
     "output_type": "display_data"
    }
   ],
   "source": [
    "%%manim -qm MyAweseomeScene\n",
    "\n",
    "class MyAweseomeScene(Scene):\n",
    "    def construct(self):\n",
    "        blue_circle = Circle(color=BLUE, fill_opacity=0.5)\n",
    "        green_square = Square(color=GREEN, fill_opacity=0.8)\n",
    "        self.play(Create(blue_circle))\n",
    "        self.wait()\n",
    "        \n",
    "        self.play(Transform(blue_circle, green_square))\n",
    "        self.wait()"
   ]
  },
  {
   "cell_type": "code",
   "execution_count": null,
   "metadata": {},
   "outputs": [],
   "source": []
  }
 ],
 "metadata": {
  "kernelspec": {
   "display_name": "Python 3",
   "language": "python",
   "name": "python3"
  },
  "language_info": {
   "codemirror_mode": {
    "name": "ipython",
    "version": 3
   },
   "file_extension": ".py",
   "mimetype": "text/x-python",
   "name": "python",
   "nbconvert_exporter": "python",
   "pygments_lexer": "ipython3",
   "version": "3.11.6"
  }
 },
 "nbformat": 4,
 "nbformat_minor": 2
}
